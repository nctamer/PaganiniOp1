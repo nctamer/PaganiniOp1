{
  "nbformat": 4,
  "nbformat_minor": 0,
  "metadata": {
    "colab": {
      "provenance": [],
      "include_colab_link": true
    },
    "kernelspec": {
      "name": "python3",
      "display_name": "Python 3"
    },
    "language_info": {
      "name": "python"
    },
    "widgets": {
      "application/vnd.jupyter.widget-state+json": {
        "bab9cc73fc894bc681b281a1d9ddfe7e": {
          "model_module": "@jupyter-widgets/controls",
          "model_name": "BoxModel",
          "model_module_version": "1.5.0",
          "state": {
            "_dom_classes": [],
            "_model_module": "@jupyter-widgets/controls",
            "_model_module_version": "1.5.0",
            "_model_name": "BoxModel",
            "_view_count": null,
            "_view_module": "@jupyter-widgets/controls",
            "_view_module_version": "1.5.0",
            "_view_name": "BoxView",
            "box_style": "",
            "children": [
              "IPY_MODEL_75a74cf21ae94ae481b6fd2e25adafc3",
              "IPY_MODEL_c67c5d68b30247ffa8007793ebf43db0"
            ],
            "layout": "IPY_MODEL_c190bacfdcb143719fd3e0700e06bb46"
          }
        },
        "75a74cf21ae94ae481b6fd2e25adafc3": {
          "model_module": "@jupyter-widgets/controls",
          "model_name": "BoxModel",
          "model_module_version": "1.5.0",
          "state": {
            "_dom_classes": [],
            "_model_module": "@jupyter-widgets/controls",
            "_model_module_version": "1.5.0",
            "_model_name": "BoxModel",
            "_view_count": null,
            "_view_module": "@jupyter-widgets/controls",
            "_view_module_version": "1.5.0",
            "_view_name": "BoxView",
            "box_style": "",
            "children": [
              "IPY_MODEL_9bf6806716ad4308be1d72d96d7c2935",
              "IPY_MODEL_68967a2deaf24797bc98fde522f1540b"
            ],
            "layout": "IPY_MODEL_784ecd0001214d8c9fd1ea891611c2de"
          }
        },
        "c67c5d68b30247ffa8007793ebf43db0": {
          "model_module": "@jupyter-widgets/controls",
          "model_name": "BoxModel",
          "model_module_version": "1.5.0",
          "state": {
            "_dom_classes": [],
            "_model_module": "@jupyter-widgets/controls",
            "_model_module_version": "1.5.0",
            "_model_name": "BoxModel",
            "_view_count": null,
            "_view_module": "@jupyter-widgets/controls",
            "_view_module_version": "1.5.0",
            "_view_name": "BoxView",
            "box_style": "",
            "children": [
              "IPY_MODEL_1163c23d3d644f08bce400182b88fdc9",
              "IPY_MODEL_e49e78ac553f421eafb20ba57e72f30b"
            ],
            "layout": "IPY_MODEL_784ecd0001214d8c9fd1ea891611c2de"
          }
        },
        "c190bacfdcb143719fd3e0700e06bb46": {
          "model_module": "@jupyter-widgets/base",
          "model_name": "LayoutModel",
          "model_module_version": "1.2.0",
          "state": {
            "_model_module": "@jupyter-widgets/base",
            "_model_module_version": "1.2.0",
            "_model_name": "LayoutModel",
            "_view_count": null,
            "_view_module": "@jupyter-widgets/base",
            "_view_module_version": "1.2.0",
            "_view_name": "LayoutView",
            "align_content": null,
            "align_items": "stretch",
            "align_self": null,
            "border": "solid 1px",
            "bottom": null,
            "display": "flex",
            "flex": null,
            "flex_flow": "column",
            "grid_area": null,
            "grid_auto_columns": null,
            "grid_auto_flow": null,
            "grid_auto_rows": null,
            "grid_column": null,
            "grid_gap": null,
            "grid_row": null,
            "grid_template_areas": null,
            "grid_template_columns": null,
            "grid_template_rows": null,
            "height": null,
            "justify_content": null,
            "justify_items": null,
            "left": null,
            "margin": null,
            "max_height": null,
            "max_width": null,
            "min_height": null,
            "min_width": null,
            "object_fit": null,
            "object_position": null,
            "order": null,
            "overflow": null,
            "overflow_x": null,
            "overflow_y": null,
            "padding": "1%",
            "right": null,
            "top": null,
            "visibility": null,
            "width": "30%"
          }
        },
        "9bf6806716ad4308be1d72d96d7c2935": {
          "model_module": "@jupyter-widgets/controls",
          "model_name": "LabelModel",
          "model_module_version": "1.5.0",
          "state": {
            "_dom_classes": [],
            "_model_module": "@jupyter-widgets/controls",
            "_model_module_version": "1.5.0",
            "_model_name": "LabelModel",
            "_view_count": null,
            "_view_module": "@jupyter-widgets/controls",
            "_view_module_version": "1.5.0",
            "_view_name": "LabelView",
            "description": "",
            "description_tooltip": null,
            "layout": "IPY_MODEL_47f546cdff41442a8651eb61ea444cab",
            "placeholder": "​",
            "style": "IPY_MODEL_0014197cb22645f49861adad3c3c9918",
            "value": "Method"
          }
        },
        "68967a2deaf24797bc98fde522f1540b": {
          "model_module": "@jupyter-widgets/controls",
          "model_name": "DropdownModel",
          "model_module_version": "1.5.0",
          "state": {
            "_dom_classes": [],
            "_model_module": "@jupyter-widgets/controls",
            "_model_module_version": "1.5.0",
            "_model_name": "DropdownModel",
            "_options_labels": [
              "WohlfahrtOp45",
              "SuzukiVol5",
              "SuzukiVol4",
              "SuzukiVol3",
              "SuzukiVol2",
              "SuzukiVol1",
              "SittOp32Book3",
              "SittOp32Book2",
              "SittOp32Book1",
              "RodeOp22",
              "MazasOp36",
              "Kreutzer",
              "KayserOp20",
              "Gavinies",
              "FiorilloOp3",
              "DontOp37",
              "DontOp35",
              "DanclaOp84"
            ],
            "_view_count": null,
            "_view_module": "@jupyter-widgets/controls",
            "_view_module_version": "1.5.0",
            "_view_name": "DropdownView",
            "description": "",
            "description_tooltip": null,
            "disabled": false,
            "index": 0,
            "layout": "IPY_MODEL_e7061644b48c42b589a7410ad2737e3a",
            "style": "IPY_MODEL_d5a6d5483f574f92a6a164a1c4737fe1"
          }
        },
        "784ecd0001214d8c9fd1ea891611c2de": {
          "model_module": "@jupyter-widgets/base",
          "model_name": "LayoutModel",
          "model_module_version": "1.2.0",
          "state": {
            "_model_module": "@jupyter-widgets/base",
            "_model_module_version": "1.2.0",
            "_model_name": "LayoutModel",
            "_view_count": null,
            "_view_module": "@jupyter-widgets/base",
            "_view_module_version": "1.2.0",
            "_view_name": "LayoutView",
            "align_content": null,
            "align_items": null,
            "align_self": null,
            "border": null,
            "bottom": null,
            "display": "flex",
            "flex": null,
            "flex_flow": "row",
            "grid_area": null,
            "grid_auto_columns": null,
            "grid_auto_flow": null,
            "grid_auto_rows": null,
            "grid_column": null,
            "grid_gap": null,
            "grid_row": null,
            "grid_template_areas": null,
            "grid_template_columns": null,
            "grid_template_rows": null,
            "height": null,
            "justify_content": "space-between",
            "justify_items": null,
            "left": null,
            "margin": null,
            "max_height": null,
            "max_width": null,
            "min_height": null,
            "min_width": null,
            "object_fit": null,
            "object_position": null,
            "order": null,
            "overflow": null,
            "overflow_x": null,
            "overflow_y": null,
            "padding": null,
            "right": null,
            "top": null,
            "visibility": null,
            "width": null
          }
        },
        "1163c23d3d644f08bce400182b88fdc9": {
          "model_module": "@jupyter-widgets/controls",
          "model_name": "LabelModel",
          "model_module_version": "1.5.0",
          "state": {
            "_dom_classes": [],
            "_model_module": "@jupyter-widgets/controls",
            "_model_module_version": "1.5.0",
            "_model_name": "LabelModel",
            "_view_count": null,
            "_view_module": "@jupyter-widgets/controls",
            "_view_module_version": "1.5.0",
            "_view_name": "LabelView",
            "description": "",
            "description_tooltip": null,
            "layout": "IPY_MODEL_190c67e1820c447db90435a54bf4f9e2",
            "placeholder": "​",
            "style": "IPY_MODEL_2d222cda107b42ac897f873f0a91518d",
            "value": "No"
          }
        },
        "e49e78ac553f421eafb20ba57e72f30b": {
          "model_module": "@jupyter-widgets/controls",
          "model_name": "DropdownModel",
          "model_module_version": "1.5.0",
          "state": {
            "_dom_classes": [],
            "_model_module": "@jupyter-widgets/controls",
            "_model_module_version": "1.5.0",
            "_model_name": "DropdownModel",
            "_options_labels": [
              "No01",
              "No02",
              "No03",
              "No04",
              "No05",
              "No06",
              "No07",
              "No08",
              "No09",
              "No10",
              "No11",
              "No12",
              "No15",
              "No16",
              "No17",
              "No18",
              "No19",
              "No20",
              "No22",
              "No23",
              "No24",
              "No25",
              "No26",
              "No29",
              "No31",
              "No32",
              "No34",
              "No35",
              "No36",
              "No37",
              "No39",
              "No41",
              "No42",
              "No45",
              "No48",
              "No49",
              "No50",
              "No51",
              "No52",
              "No57",
              "No58"
            ],
            "_view_count": null,
            "_view_module": "@jupyter-widgets/controls",
            "_view_module_version": "1.5.0",
            "_view_name": "DropdownView",
            "description": "",
            "description_tooltip": null,
            "disabled": false,
            "index": 0,
            "layout": "IPY_MODEL_d712753a9dcd403aa6c2e60eba8afbe6",
            "style": "IPY_MODEL_3f5e19637f4f4ef98a31590883b8dae6"
          }
        },
        "47f546cdff41442a8651eb61ea444cab": {
          "model_module": "@jupyter-widgets/base",
          "model_name": "LayoutModel",
          "model_module_version": "1.2.0",
          "state": {
            "_model_module": "@jupyter-widgets/base",
            "_model_module_version": "1.2.0",
            "_model_name": "LayoutModel",
            "_view_count": null,
            "_view_module": "@jupyter-widgets/base",
            "_view_module_version": "1.2.0",
            "_view_name": "LayoutView",
            "align_content": null,
            "align_items": null,
            "align_self": null,
            "border": null,
            "bottom": null,
            "display": null,
            "flex": null,
            "flex_flow": null,
            "grid_area": null,
            "grid_auto_columns": null,
            "grid_auto_flow": null,
            "grid_auto_rows": null,
            "grid_column": null,
            "grid_gap": null,
            "grid_row": null,
            "grid_template_areas": null,
            "grid_template_columns": null,
            "grid_template_rows": null,
            "height": null,
            "justify_content": null,
            "justify_items": null,
            "left": null,
            "margin": null,
            "max_height": null,
            "max_width": null,
            "min_height": null,
            "min_width": null,
            "object_fit": null,
            "object_position": null,
            "order": null,
            "overflow": null,
            "overflow_x": null,
            "overflow_y": null,
            "padding": null,
            "right": null,
            "top": null,
            "visibility": null,
            "width": null
          }
        },
        "0014197cb22645f49861adad3c3c9918": {
          "model_module": "@jupyter-widgets/controls",
          "model_name": "DescriptionStyleModel",
          "model_module_version": "1.5.0",
          "state": {
            "_model_module": "@jupyter-widgets/controls",
            "_model_module_version": "1.5.0",
            "_model_name": "DescriptionStyleModel",
            "_view_count": null,
            "_view_module": "@jupyter-widgets/base",
            "_view_module_version": "1.2.0",
            "_view_name": "StyleView",
            "description_width": ""
          }
        },
        "e7061644b48c42b589a7410ad2737e3a": {
          "model_module": "@jupyter-widgets/base",
          "model_name": "LayoutModel",
          "model_module_version": "1.2.0",
          "state": {
            "_model_module": "@jupyter-widgets/base",
            "_model_module_version": "1.2.0",
            "_model_name": "LayoutModel",
            "_view_count": null,
            "_view_module": "@jupyter-widgets/base",
            "_view_module_version": "1.2.0",
            "_view_name": "LayoutView",
            "align_content": null,
            "align_items": null,
            "align_self": null,
            "border": null,
            "bottom": null,
            "display": null,
            "flex": null,
            "flex_flow": null,
            "grid_area": null,
            "grid_auto_columns": null,
            "grid_auto_flow": null,
            "grid_auto_rows": null,
            "grid_column": null,
            "grid_gap": null,
            "grid_row": null,
            "grid_template_areas": null,
            "grid_template_columns": null,
            "grid_template_rows": null,
            "height": null,
            "justify_content": null,
            "justify_items": null,
            "left": null,
            "margin": null,
            "max_height": null,
            "max_width": null,
            "min_height": null,
            "min_width": null,
            "object_fit": null,
            "object_position": null,
            "order": null,
            "overflow": null,
            "overflow_x": null,
            "overflow_y": null,
            "padding": null,
            "right": null,
            "top": null,
            "visibility": null,
            "width": null
          }
        },
        "d5a6d5483f574f92a6a164a1c4737fe1": {
          "model_module": "@jupyter-widgets/controls",
          "model_name": "DescriptionStyleModel",
          "model_module_version": "1.5.0",
          "state": {
            "_model_module": "@jupyter-widgets/controls",
            "_model_module_version": "1.5.0",
            "_model_name": "DescriptionStyleModel",
            "_view_count": null,
            "_view_module": "@jupyter-widgets/base",
            "_view_module_version": "1.2.0",
            "_view_name": "StyleView",
            "description_width": ""
          }
        },
        "190c67e1820c447db90435a54bf4f9e2": {
          "model_module": "@jupyter-widgets/base",
          "model_name": "LayoutModel",
          "model_module_version": "1.2.0",
          "state": {
            "_model_module": "@jupyter-widgets/base",
            "_model_module_version": "1.2.0",
            "_model_name": "LayoutModel",
            "_view_count": null,
            "_view_module": "@jupyter-widgets/base",
            "_view_module_version": "1.2.0",
            "_view_name": "LayoutView",
            "align_content": null,
            "align_items": null,
            "align_self": null,
            "border": null,
            "bottom": null,
            "display": null,
            "flex": null,
            "flex_flow": null,
            "grid_area": null,
            "grid_auto_columns": null,
            "grid_auto_flow": null,
            "grid_auto_rows": null,
            "grid_column": null,
            "grid_gap": null,
            "grid_row": null,
            "grid_template_areas": null,
            "grid_template_columns": null,
            "grid_template_rows": null,
            "height": null,
            "justify_content": null,
            "justify_items": null,
            "left": null,
            "margin": null,
            "max_height": null,
            "max_width": null,
            "min_height": null,
            "min_width": null,
            "object_fit": null,
            "object_position": null,
            "order": null,
            "overflow": null,
            "overflow_x": null,
            "overflow_y": null,
            "padding": null,
            "right": null,
            "top": null,
            "visibility": null,
            "width": null
          }
        },
        "2d222cda107b42ac897f873f0a91518d": {
          "model_module": "@jupyter-widgets/controls",
          "model_name": "DescriptionStyleModel",
          "model_module_version": "1.5.0",
          "state": {
            "_model_module": "@jupyter-widgets/controls",
            "_model_module_version": "1.5.0",
            "_model_name": "DescriptionStyleModel",
            "_view_count": null,
            "_view_module": "@jupyter-widgets/base",
            "_view_module_version": "1.2.0",
            "_view_name": "StyleView",
            "description_width": ""
          }
        },
        "d712753a9dcd403aa6c2e60eba8afbe6": {
          "model_module": "@jupyter-widgets/base",
          "model_name": "LayoutModel",
          "model_module_version": "1.2.0",
          "state": {
            "_model_module": "@jupyter-widgets/base",
            "_model_module_version": "1.2.0",
            "_model_name": "LayoutModel",
            "_view_count": null,
            "_view_module": "@jupyter-widgets/base",
            "_view_module_version": "1.2.0",
            "_view_name": "LayoutView",
            "align_content": null,
            "align_items": null,
            "align_self": null,
            "border": null,
            "bottom": null,
            "display": null,
            "flex": null,
            "flex_flow": null,
            "grid_area": null,
            "grid_auto_columns": null,
            "grid_auto_flow": null,
            "grid_auto_rows": null,
            "grid_column": null,
            "grid_gap": null,
            "grid_row": null,
            "grid_template_areas": null,
            "grid_template_columns": null,
            "grid_template_rows": null,
            "height": null,
            "justify_content": null,
            "justify_items": null,
            "left": null,
            "margin": null,
            "max_height": null,
            "max_width": null,
            "min_height": null,
            "min_width": null,
            "object_fit": null,
            "object_position": null,
            "order": null,
            "overflow": null,
            "overflow_x": null,
            "overflow_y": null,
            "padding": null,
            "right": null,
            "top": null,
            "visibility": null,
            "width": null
          }
        },
        "3f5e19637f4f4ef98a31590883b8dae6": {
          "model_module": "@jupyter-widgets/controls",
          "model_name": "DescriptionStyleModel",
          "model_module_version": "1.5.0",
          "state": {
            "_model_module": "@jupyter-widgets/controls",
            "_model_module_version": "1.5.0",
            "_model_name": "DescriptionStyleModel",
            "_view_count": null,
            "_view_module": "@jupyter-widgets/base",
            "_view_module_version": "1.2.0",
            "_view_name": "StyleView",
            "description_width": ""
          }
        },
        "ea9584615c8042dcaf90d30d4ea196c5": {
          "model_module": "@jupyter-widgets/output",
          "model_name": "OutputModel",
          "model_module_version": "1.0.0",
          "state": {
            "_dom_classes": [],
            "_model_module": "@jupyter-widgets/output",
            "_model_module_version": "1.0.0",
            "_model_name": "OutputModel",
            "_view_count": null,
            "_view_module": "@jupyter-widgets/output",
            "_view_module_version": "1.0.0",
            "_view_name": "OutputView",
            "layout": "IPY_MODEL_47ced1531c1e4cdcad0b96c197e3b8e5",
            "msg_id": "",
            "outputs": []
          }
        },
        "47ced1531c1e4cdcad0b96c197e3b8e5": {
          "model_module": "@jupyter-widgets/base",
          "model_name": "LayoutModel",
          "model_module_version": "1.2.0",
          "state": {
            "_model_module": "@jupyter-widgets/base",
            "_model_module_version": "1.2.0",
            "_model_name": "LayoutModel",
            "_view_count": null,
            "_view_module": "@jupyter-widgets/base",
            "_view_module_version": "1.2.0",
            "_view_name": "LayoutView",
            "align_content": null,
            "align_items": null,
            "align_self": null,
            "border": null,
            "bottom": null,
            "display": null,
            "flex": null,
            "flex_flow": null,
            "grid_area": null,
            "grid_auto_columns": null,
            "grid_auto_flow": null,
            "grid_auto_rows": null,
            "grid_column": null,
            "grid_gap": null,
            "grid_row": null,
            "grid_template_areas": null,
            "grid_template_columns": null,
            "grid_template_rows": null,
            "height": null,
            "justify_content": null,
            "justify_items": null,
            "left": null,
            "margin": null,
            "max_height": null,
            "max_width": null,
            "min_height": null,
            "min_width": null,
            "object_fit": null,
            "object_position": null,
            "order": null,
            "overflow": null,
            "overflow_x": null,
            "overflow_y": null,
            "padding": null,
            "right": null,
            "top": null,
            "visibility": null,
            "width": null
          }
        }
      }
    },
    "gpuClass": "standard"
  },
  "cells": [
    {
      "cell_type": "markdown",
      "metadata": {
        "id": "view-in-github",
        "colab_type": "text"
      },
      "source": [
        "<a href=\"https://colab.research.google.com/github/nctamer/paganini/blob/main/alignment.ipynb\" target=\"_parent\"><img src=\"https://colab.research.google.com/assets/colab-badge.svg\" alt=\"Open In Colab\"/></a>"
      ]
    },
    {
      "cell_type": "code",
      "execution_count": 1,
      "metadata": {
        "cellView": "form",
        "id": "VfywwmnJ4zhX"
      },
      "outputs": [],
      "source": [
        "#@markdown Import modules\n",
        "!pip install numba==0.53    &> /dev/null\n",
        "!pip install synctoolbox    &> /dev/null\n",
        "!pip install libfmp    &> /dev/null\n",
        "!git clone https://github.com/nctamer/violin-etudes.git   &> /dev/null\n",
        "!pip install libf0   &> /dev/null\n",
        "!pip install yt-dlp   &> /dev/null\n",
        "from IPython.display import YouTubeVideo\n",
        "import librosa\n",
        "import IPython.display as ipd\n",
        "import torch\n",
        "from torch.utils.data import Dataset\n",
        "import torch.nn as nn\n",
        "import torch.nn.functional as F\n",
        "import torch.nn.init as init\n",
        "from torch.utils.data import DataLoader\n",
        "import random\n",
        "import numpy as np\n",
        "import librosa\n",
        "from librosa.sequence import viterbi_discriminative\n",
        "import sys, math\n",
        "from glob import glob\n",
        "import time\n",
        "import numpy as np\n",
        "import matplotlib.image as mpimg\n",
        "from tqdm import tqdm\n",
        "from pathlib import Path\n",
        "import os\n",
        "from scipy.stats import norm\n",
        "import pandas as pd\n",
        "from scipy.ndimage import gaussian_filter1d\n",
        "from scipy.interpolate import interp1d\n",
        "import matplotlib.pyplot as plt\n",
        "import libf0\n",
        "\n",
        "def plot_f0_trajectory(Y_LF, t, f, f0, t_f0, figsize=(8.5, 3.4), xlim=(0, 11.5), ylim=(2000, 6000)):\n",
        "    \"\"\"\n",
        "    Plot a calculated f0 trajectory on the corresponding spectrogram\n",
        "    \n",
        "    Parameters\n",
        "    ----------\n",
        "    Y_LF : np.ndarray\n",
        "        log-frequency spectrogram\n",
        "    t : np.ndarray\n",
        "        time axis of the spectrogram\n",
        "    f : np.ndarray\n",
        "        log-frequency axis of the spectrogram in cents\n",
        "    f0 : np.ndarray\n",
        "        f0 trajectory in cents\n",
        "    t_f0 : np.ndarray\n",
        "        time points of the f0 trajectory frames\n",
        "    figsize : tuple\n",
        "        figure size\n",
        "    xlim : tuple\n",
        "        x-limits\n",
        "    ylim : tuple\n",
        "        y-limits\n",
        "    \"\"\"\n",
        "    plt.figure(figsize=figsize)\n",
        "\n",
        "    plt.imshow(Y_LF, cmap='gray_r', aspect='auto', origin='lower', extent=[t[0], t[-1], f[0], f[-1]])\n",
        "    plt.plot(t_f0, f0, linestyle='', marker='.', markersize=5, color=[192/256, 0, 0])\n",
        "\n",
        "    plt.xlim(xlim)\n",
        "    plt.ylim(ylim)\n",
        "\n",
        "    plt.gca().tick_params(axis='both', which='major', labelsize=10)\n",
        "    plt.gca().tick_params(axis='both', which='minor', labelsize=10)\n",
        "    \n",
        "    plt.xlabel(\"Time (seconds)\", fontsize=12)\n",
        "    plt.ylabel(\"Log-Frequency (cents)\", fontsize=12)\n",
        "    \n",
        "    cbar = plt.colorbar()\n",
        "    cbar.ax.get_yaxis().labelpad = 15\n",
        "    cbar.ax.set_ylabel('Log-Magnitude', rotation=270)\n",
        "\n",
        "    plt.tight_layout()\n",
        "    plt.show()"
      ]
    },
    {
      "cell_type": "markdown",
      "source": [
        "# Selecting YouTube videos\n"
      ],
      "metadata": {
        "id": "HKBrSFE7f-hn"
      }
    },
    {
      "cell_type": "code",
      "source": [
        "#@markdown Select Etude (please run this only once, the changes you do in the\n",
        "#@markdown dropdown will automatically update the variables, without re-run)\n",
        "import ipywidgets as widgets\n",
        "from ipywidgets import HBox, Label\n",
        "from ipywidgets import Layout, Button, Box, FloatText, Textarea, Dropdown, Label, IntSlider\n",
        "import time\n",
        "import pandas as pd\n",
        "from glob import glob\n",
        "import os\n",
        "\n",
        "def split_name(name):\n",
        "  name = name.rsplit('.', 2)[0]\n",
        "  player = name[:2]\n",
        "  end = int(name[-4:])\n",
        "  start = int(name[-8:-4])\n",
        "  key = name[2:-8]\n",
        "  return player, key, start, end\n",
        "f0_dir = 'violin-etudes/f0'\n",
        "f0s = [os.path.relpath(_, f0_dir) for _ in sorted(glob(os.path.join(f0_dir,'*','*','*.RESYN.csv')))]\n",
        "df = pd.DataFrame(f0s, columns=['f0Path'])\n",
        "df = df.join(df['f0Path'].str.split('/',expand=True))\n",
        "df.columns = ['f0Path', 'Method', 'No', 'rest']\n",
        "df = df.join(pd.DataFrame(df['rest'].apply(split_name).to_list(), columns=['PlayerID', 'YouTubeKey', 'Start', 'End']))\n",
        "del df['rest']\n",
        "ind = list(df['Method'].unique())\n",
        "dep = {m: list(df.loc[df['Method']==m, 'No'].unique()) for m in ind}\n",
        "\n",
        "\n",
        "# Layout\n",
        "form_item_layout = Layout(\n",
        "    display='flex',\n",
        "    flex_flow='row',\n",
        "    justify_content='space-between',\n",
        ")\n",
        "\n",
        "\n",
        "button_item_layout = Layout(\n",
        "    display='flex',\n",
        "    flex_flow='row',\n",
        "    justify_content='center',\n",
        "    padding = '5%'\n",
        ")\n",
        "\n",
        "# Independent dropdown item\n",
        "\n",
        "drop_down_input = ind[-1]\n",
        "drop_down = widgets.Dropdown(options=(ind[::-1]))\n",
        "\n",
        "\n",
        "# Dependent drop down\n",
        "# Dependent drop down elements\n",
        "dependent_drop_down_elements = dep\n",
        "\n",
        "# Define dependent drop down\n",
        "\n",
        "dependent_drop_down = widgets.Dropdown(options=(dependent_drop_down_elements[drop_down_input]))\n",
        "\n",
        "def dropdown_handler(change):\n",
        "    global drop_down_input\n",
        "    drop_down_input = change.new\n",
        "    #If statement checking on dropdown value and changing options of the dependent dropdown accordingly\n",
        "    for m in ind:\n",
        "        if  change.new==m:\n",
        "            dependent_drop_down.options=dependent_drop_down_elements[m]\n",
        "drop_down.observe(dropdown_handler, names='value')\n",
        "\n",
        "# Button\n",
        "\n",
        "button = widgets.Button(description='Add row to dataframe')\n",
        "out = widgets.Output()\n",
        "def on_button_clicked(b):\n",
        "    global df\n",
        "    button.description = 'Row added'\n",
        "    time.sleep(1)\n",
        "    with out:\n",
        "      new_row = {'Dropdown_column': drop_down_input, 'Float_column': float_input}\n",
        "      df = df.append(new_row, ignore_index=True)\n",
        "      button.description = 'Add row to dataframe'\n",
        "      out.clear_output()  \n",
        "      display(df)\n",
        "button.on_click(on_button_clicked)\n",
        "\n",
        "# Form items\n",
        "\n",
        "form_items = [         \n",
        "    Box([Label(value='Method'),\n",
        "         drop_down], layout=form_item_layout),\n",
        "    Box([Label(value='No'),\n",
        "         dependent_drop_down], layout=form_item_layout)\n",
        "         ]\n",
        "\n",
        "form = Box(form_items, layout=Layout(\n",
        "    display='flex',\n",
        "    flex_flow='column',\n",
        "    border='solid 1px',\n",
        "    align_items='stretch',\n",
        "    width='30%',\n",
        "    padding = '1%'\n",
        "))\n",
        "display(form)\n",
        "display(out)"
      ],
      "metadata": {
        "colab": {
          "base_uri": "https://localhost:8080/",
          "height": 113,
          "referenced_widgets": [
            "bab9cc73fc894bc681b281a1d9ddfe7e",
            "75a74cf21ae94ae481b6fd2e25adafc3",
            "c67c5d68b30247ffa8007793ebf43db0",
            "c190bacfdcb143719fd3e0700e06bb46",
            "9bf6806716ad4308be1d72d96d7c2935",
            "68967a2deaf24797bc98fde522f1540b",
            "784ecd0001214d8c9fd1ea891611c2de",
            "1163c23d3d644f08bce400182b88fdc9",
            "e49e78ac553f421eafb20ba57e72f30b",
            "47f546cdff41442a8651eb61ea444cab",
            "0014197cb22645f49861adad3c3c9918",
            "e7061644b48c42b589a7410ad2737e3a",
            "d5a6d5483f574f92a6a164a1c4737fe1",
            "190c67e1820c447db90435a54bf4f9e2",
            "2d222cda107b42ac897f873f0a91518d",
            "d712753a9dcd403aa6c2e60eba8afbe6",
            "3f5e19637f4f4ef98a31590883b8dae6",
            "ea9584615c8042dcaf90d30d4ea196c5",
            "47ced1531c1e4cdcad0b96c197e3b8e5"
          ]
        },
        "cellView": "form",
        "id": "Q3hN2agD6Rgb",
        "outputId": "19d76757-4982-4b03-bc7a-6b87358e97fa"
      },
      "execution_count": 2,
      "outputs": [
        {
          "output_type": "display_data",
          "data": {
            "text/plain": [
              "Box(children=(Box(children=(Label(value='Method'), Dropdown(options=('WohlfahrtOp45', 'SuzukiVol5', 'SuzukiVol…"
            ],
            "application/vnd.jupyter.widget-view+json": {
              "version_major": 2,
              "version_minor": 0,
              "model_id": "bab9cc73fc894bc681b281a1d9ddfe7e"
            }
          },
          "metadata": {}
        },
        {
          "output_type": "display_data",
          "data": {
            "text/plain": [
              "Output()"
            ],
            "application/vnd.jupyter.widget-view+json": {
              "version_major": 2,
              "version_minor": 0,
              "model_id": "ea9584615c8042dcaf90d30d4ea196c5"
            }
          },
          "metadata": {}
        }
      ]
    },
    {
      "cell_type": "code",
      "source": [
        "#@markdown Show YouTube recordings for the specified etude\n",
        "\n",
        "#@markdown For example, for Wohlfahrt Op. 45 No. 1 we have multiple segments from\n",
        "#@markdown the same recording for the first player. Show different segments\n",
        "#@markdown separately with start and end timestamps.\n",
        "\n",
        "selected_recordings = df[(df['Method']==drop_down.value) & (df['No']==dependent_drop_down.value) ]\n",
        "for i, rec in selected_recordings.iterrows():\n",
        "  key = rec['YouTubeKey']\n",
        "  start = rec['Start']\n",
        "  end = rec['End']\n",
        "  ipd.display(ipd.YouTubeVideo(key, width=500, start=start, end=end))"
      ],
      "metadata": {
        "colab": {
          "base_uri": "https://localhost:8080/",
          "height": 626
        },
        "cellView": "form",
        "id": "TptAVySZ7m7a",
        "outputId": "7e2c678d-53ff-426c-ddfd-9b47ae30ac33"
      },
      "execution_count": 3,
      "outputs": [
        {
          "output_type": "display_data",
          "data": {
            "text/plain": [
              "<IPython.lib.display.YouTubeVideo at 0x7f010c6b19d0>"
            ],
            "text/html": [
              "\n",
              "        <iframe\n",
              "            width=\"500\"\n",
              "            height=\"300\"\n",
              "            src=\"https://www.youtube.com/embed/ftJuah5VgxI?start=0&end=110\"\n",
              "            frameborder=\"0\"\n",
              "            allowfullscreen\n",
              "        ></iframe>\n",
              "        "
            ],
            "image/jpeg": "[encoded data removed]"
          },
          "metadata": {}
        },
        {
          "output_type": "display_data",
          "data": {
            "text/plain": [
              "<IPython.lib.display.YouTubeVideo at 0x7f010c6b1760>"
            ],
            "text/html": [
              "\n",
              "        <iframe\n",
              "            width=\"500\"\n",
              "            height=\"300\"\n",
              "            src=\"https://www.youtube.com/embed/zaB37w6Rgmo?start=0&end=108\"\n",
              "            frameborder=\"0\"\n",
              "            allowfullscreen\n",
              "        ></iframe>\n",
              "        "
            ],
            "image/jpeg": "[encoded data removed]"
          },
          "metadata": {}
        }
      ]
    },
    {
      "cell_type": "code",
      "source": [
        "selected_recordings"
      ],
      "metadata": {
        "id": "1b65S1rQ2fDC",
        "outputId": "8129fe39-d303-45bd-b932-4625dbffc3c0",
        "colab": {
          "base_uri": "https://localhost:8080/",
          "height": 112
        }
      },
      "execution_count": 4,
      "outputs": [
        {
          "output_type": "execute_result",
          "data": {
            "text/plain": [
              "                                           f0Path    Method    No PlayerID  \\\n",
              "65  DontOp35/No06/02ftJuah5VgxI00000110.RESYN.csv  DontOp35  No06       02   \n",
              "66  DontOp35/No06/06zaB37w6Rgmo00000108.RESYN.csv  DontOp35  No06       06   \n",
              "\n",
              "     YouTubeKey  Start  End  \n",
              "65  ftJuah5VgxI      0  110  \n",
              "66  zaB37w6Rgmo      0  108  "
            ],
            "text/html": [
              "\n",
              "  <div id=\"df-d1c84ef2-c4a6-480d-9c19-eca1edafd56a\">\n",
              "    <div class=\"colab-df-container\">\n",
              "      <div>\n",
              "<style scoped>\n",
              "    .dataframe tbody tr th:only-of-type {\n",
              "        vertical-align: middle;\n",
              "    }\n",
              "\n",
              "    .dataframe tbody tr th {\n",
              "        vertical-align: top;\n",
              "    }\n",
              "\n",
              "    .dataframe thead th {\n",
              "        text-align: right;\n",
              "    }\n",
              "</style>\n",
              "<table border=\"1\" class=\"dataframe\">\n",
              "  <thead>\n",
              "    <tr style=\"text-align: right;\">\n",
              "      <th></th>\n",
              "      <th>f0Path</th>\n",
              "      <th>Method</th>\n",
              "      <th>No</th>\n",
              "      <th>PlayerID</th>\n",
              "      <th>YouTubeKey</th>\n",
              "      <th>Start</th>\n",
              "      <th>End</th>\n",
              "    </tr>\n",
              "  </thead>\n",
              "  <tbody>\n",
              "    <tr>\n",
              "      <th>65</th>\n",
              "      <td>DontOp35/No06/02ftJuah5VgxI00000110.RESYN.csv</td>\n",
              "      <td>DontOp35</td>\n",
              "      <td>No06</td>\n",
              "      <td>02</td>\n",
              "      <td>ftJuah5VgxI</td>\n",
              "      <td>0</td>\n",
              "      <td>110</td>\n",
              "    </tr>\n",
              "    <tr>\n",
              "      <th>66</th>\n",
              "      <td>DontOp35/No06/06zaB37w6Rgmo00000108.RESYN.csv</td>\n",
              "      <td>DontOp35</td>\n",
              "      <td>No06</td>\n",
              "      <td>06</td>\n",
              "      <td>zaB37w6Rgmo</td>\n",
              "      <td>0</td>\n",
              "      <td>108</td>\n",
              "    </tr>\n",
              "  </tbody>\n",
              "</table>\n",
              "</div>\n",
              "      <button class=\"colab-df-convert\" onclick=\"convertToInteractive('df-d1c84ef2-c4a6-480d-9c19-eca1edafd56a')\"\n",
              "              title=\"Convert this dataframe to an interactive table.\"\n",
              "              style=\"display:none;\">\n",
              "        \n",
              "  <svg xmlns=\"http://www.w3.org/2000/svg\" height=\"24px\"viewBox=\"0 0 24 24\"\n",
              "       width=\"24px\">\n",
              "    <path d=\"M0 0h24v24H0V0z\" fill=\"none\"/>\n",
              "    <path d=\"M18.56 5.44l.94 2.06.94-2.06 2.06-.94-2.06-.94-.94-2.06-.94 2.06-2.06.94zm-11 1L8.5 8.5l.94-2.06 2.06-.94-2.06-.94L8.5 2.5l-.94 2.06-2.06.94zm10 10l.94 2.06.94-2.06 2.06-.94-2.06-.94-.94-2.06-.94 2.06-2.06.94z\"/><path d=\"M17.41 7.96l-1.37-1.37c-.4-.4-.92-.59-1.43-.59-.52 0-1.04.2-1.43.59L10.3 9.45l-7.72 7.72c-.78.78-.78 2.05 0 2.83L4 21.41c.39.39.9.59 1.41.59.51 0 1.02-.2 1.41-.59l7.78-7.78 2.81-2.81c.8-.78.8-2.07 0-2.86zM5.41 20L4 18.59l7.72-7.72 1.47 1.35L5.41 20z\"/>\n",
              "  </svg>\n",
              "      </button>\n",
              "      \n",
              "  <style>\n",
              "    .colab-df-container {\n",
              "      display:flex;\n",
              "      flex-wrap:wrap;\n",
              "      gap: 12px;\n",
              "    }\n",
              "\n",
              "    .colab-df-convert {\n",
              "      background-color: #E8F0FE;\n",
              "      border: none;\n",
              "      border-radius: 50%;\n",
              "      cursor: pointer;\n",
              "      display: none;\n",
              "      fill: #1967D2;\n",
              "      height: 32px;\n",
              "      padding: 0 0 0 0;\n",
              "      width: 32px;\n",
              "    }\n",
              "\n",
              "    .colab-df-convert:hover {\n",
              "      background-color: #E2EBFA;\n",
              "      box-shadow: 0px 1px 2px rgba(60, 64, 67, 0.3), 0px 1px 3px 1px rgba(60, 64, 67, 0.15);\n",
              "      fill: #174EA6;\n",
              "    }\n",
              "\n",
              "    [theme=dark] .colab-df-convert {\n",
              "      background-color: #3B4455;\n",
              "      fill: #D2E3FC;\n",
              "    }\n",
              "\n",
              "    [theme=dark] .colab-df-convert:hover {\n",
              "      background-color: #434B5C;\n",
              "      box-shadow: 0px 1px 3px 1px rgba(0, 0, 0, 0.15);\n",
              "      filter: drop-shadow(0px 1px 2px rgba(0, 0, 0, 0.3));\n",
              "      fill: #FFFFFF;\n",
              "    }\n",
              "  </style>\n",
              "\n",
              "      <script>\n",
              "        const buttonEl =\n",
              "          document.querySelector('#df-d1c84ef2-c4a6-480d-9c19-eca1edafd56a button.colab-df-convert');\n",
              "        buttonEl.style.display =\n",
              "          google.colab.kernel.accessAllowed ? 'block' : 'none';\n",
              "\n",
              "        async function convertToInteractive(key) {\n",
              "          const element = document.querySelector('#df-d1c84ef2-c4a6-480d-9c19-eca1edafd56a');\n",
              "          const dataTable =\n",
              "            await google.colab.kernel.invokeFunction('convertToInteractive',\n",
              "                                                     [key], {});\n",
              "          if (!dataTable) return;\n",
              "\n",
              "          const docLinkHtml = 'Like what you see? Visit the ' +\n",
              "            '<a target=\"_blank\" href=https://colab.research.google.com/notebooks/data_table.ipynb>data table notebook</a>'\n",
              "            + ' to learn more about interactive tables.';\n",
              "          element.innerHTML = '';\n",
              "          dataTable['output_type'] = 'display_data';\n",
              "          await google.colab.output.renderOutput(dataTable, element);\n",
              "          const docLink = document.createElement('div');\n",
              "          docLink.innerHTML = docLinkHtml;\n",
              "          element.appendChild(docLink);\n",
              "        }\n",
              "      </script>\n",
              "    </div>\n",
              "  </div>\n",
              "  "
            ]
          },
          "metadata": {},
          "execution_count": 4
        }
      ]
    },
    {
      "cell_type": "markdown",
      "source": [
        "# Alignment for the selected recordings. ONLY FOR WOHLFAHRT AND KAYSER!\n",
        "Timing errors in some videos come from the yt-dlp sponsor removal feature. This can be easily fixed by changing the start and end timestamps in future!"
      ],
      "metadata": {
        "id": "1VSR8f3ygr11"
      }
    },
    {
      "cell_type": "code",
      "source": [
        "#@markdown write score_informed_pitch_detection.py \n",
        "%%writefile score_informed_pitch_detection.py\n",
        "import numpy as np\n",
        "from scipy import linalg\n",
        "import libfmp.c8\n",
        "from matplotlib import pyplot as plt\n",
        "import matplotlib\n",
        "\n",
        "\n",
        "def hz_to_cents(F, F_ref=55.0):\n",
        "    \"\"\"Converts frequency in Hz to cents\n",
        "\n",
        "    Notebook: C8/C8S2_FundFreqTracking.ipynb\n",
        "\n",
        "    Args:\n",
        "        F (float or np.ndarray): Frequency value in Hz\n",
        "        F_ref (float): Reference frequency in Hz (Default value = 55.0)\n",
        "\n",
        "    Returns:\n",
        "        F_cent (float or np.ndarray): Frequency in cents\n",
        "    \"\"\"\n",
        "    F_cent = 1200 * np.log2(F / F_ref)\n",
        "    return F_cent\n",
        "\n",
        "def cents_to_hz(F_cent, F_ref=55.0):\n",
        "    \"\"\"Converts frequency in cents to Hz\n",
        "\n",
        "    Notebook: C8/C8S2_FundFreqTracking.ipynb\n",
        "\n",
        "    Args:\n",
        "        F_cent (float or np.ndarray): Frequency in cents\n",
        "        F_ref (float): Reference frequency in Hz (Default value = 55.0)\n",
        "\n",
        "    Returns:\n",
        "        F (float or np.ndarray): Frequency in Hz\n",
        "    \"\"\"\n",
        "    F = F_ref * 2 ** (F_cent / 1200)\n",
        "    return F\n",
        "\n",
        "\n",
        "def define_transition_matrix(B, tol=0, score_low=0.01, score_high=1.0):\n",
        "    \"\"\"Generate transition matrix\n",
        "\n",
        "    Notebook: C8/C8S2_FundFreqTracking.ipynb\n",
        "\n",
        "    Args:\n",
        "        B (int): Number of bins\n",
        "        tol (int): Tolerance parameter for transition matrix (Default value = 0)\n",
        "        score_low (float): Score (low) for transition matrix (Default value = 0.01)\n",
        "        score_high (float): Score (high) for transition matrix (Default value = 1.0)\n",
        "\n",
        "    Returns:\n",
        "        T (np.ndarray): Transition matrix\n",
        "    \"\"\"\n",
        "    col = np.ones((B,)) * score_low\n",
        "    col[0:tol+1] = np.ones((tol+1, )) * score_high\n",
        "    T = linalg.toeplitz(col)\n",
        "    return T\n",
        "\n",
        "def convert_ann_to_constraint_region(ann, tol_freq_cents=300.0):\n",
        "    \"\"\"Convert score annotations to constraint regions\n",
        "\n",
        "    Notebook: C8/C8S2_FundFreqTracking.ipynb\n",
        "\n",
        "    Args:\n",
        "        ann (list): Score annotations [[start_time, end_time, MIDI_pitch], ...\n",
        "        tol_freq_cents (float): Tolerance in pitch directions specified in cents (Default value = 300.0)\n",
        "\n",
        "    Returns:\n",
        "        constraint_region (np.ndarray): Constraint regions\n",
        "    \"\"\"\n",
        "    tol_pitch = tol_freq_cents / 100\n",
        "    freq_lower = 2 ** ((ann[:, 2] - tol_pitch - 69)/12) * 440\n",
        "    freq_upper = 2 ** ((ann[:, 2] + tol_pitch - 69)/12) * 440\n",
        "    constraint_region = np.concatenate((ann[:, 0:2],\n",
        "                                        freq_lower.reshape(-1, 1),\n",
        "                                        freq_upper.reshape(-1, 1)), axis=1)\n",
        "    return constraint_region\n",
        "\n",
        "\n",
        "def compute_trajectory_dp(Z, T):\n",
        "    \"\"\"Trajectory tracking using dynamic programming\n",
        "\n",
        "    Notebook: C8/C8S2_FundFreqTracking.ipynb\n",
        "\n",
        "    Args:\n",
        "        Z: Salience representation\n",
        "        T: Transisition matrix\n",
        "\n",
        "    Returns:\n",
        "        eta_DP (np.ndarray): Trajectory indices\n",
        "    \"\"\"\n",
        "    B, N = Z.shape\n",
        "    eps_machine = np.finfo(np.float32).eps\n",
        "    Z_log = np.log(Z + eps_machine)\n",
        "    T_log = np.log(T + eps_machine)\n",
        "\n",
        "    E = np.zeros((B, N))\n",
        "    D = np.zeros((B, N))\n",
        "    D[:, 0] = Z_log[:, 0]\n",
        "\n",
        "    for n in np.arange(1, N):\n",
        "        for b in np.arange(0, B):\n",
        "            D[b, n] = np.max(T_log[b, :] + D[:, n-1]) + Z_log[b, n]\n",
        "            E[b, n-1] = np.argmax(T_log[b, :] + D[:, n-1])\n",
        "\n",
        "    # backtracking\n",
        "    eta_DP = np.zeros(N)\n",
        "    eta_DP[N-1] = int(np.argmax(D[:, N-1]))\n",
        "\n",
        "    for n in np.arange(N-2, -1, -1):\n",
        "        eta_DP[n] = E[int(eta_DP[n+1]), n]\n",
        "\n",
        "    return eta_DP.astype(np.int64)\n",
        "\n",
        "\n",
        "def compute_trajectory_cr(Z, T_coef, F_coef_hertz, constraint_region=None,\n",
        "                          tol=5, score_low=0.01, score_high=1.0):\n",
        "    \"\"\"Trajectory tracking with constraint regions\n",
        "\n",
        "    Notebook: C8/C8S2_FundFreqTracking.ipynb\n",
        "\n",
        "    Args:\n",
        "        Z (np.ndarray): Salience representation\n",
        "        T_coef (np.ndarray): Time axis\n",
        "        F_coef_hertz (np.ndarray): Frequency axis in Hz\n",
        "        constraint_region (np.ndarray): Constraint regions, row-format: (t_start_sec, t_end_sec, f_start_hz, f_end_hz)\n",
        "            (Default value = None)\n",
        "        tol (int): Tolerance parameter for transition matrix (Default value = 5)\n",
        "        score_low (float): Score (low) for transition matrix (Default value = 0.01)\n",
        "        score_high (float): Score (high) for transition matrix (Default value = 1.0)\n",
        "\n",
        "    Returns:\n",
        "        eta (np.ndarray): Trajectory indices, unvoiced frames are indicated with -1\n",
        "    \"\"\"\n",
        "    # do tracking within every constraint region\n",
        "    if constraint_region is not None:\n",
        "        # initialize contour, unvoiced frames are indicated with -1\n",
        "        eta = np.full(len(T_coef), -1)\n",
        "\n",
        "        for row_idx in range(constraint_region.shape[0]):\n",
        "            t_start = constraint_region[row_idx, 0]  # sec\n",
        "            t_end = constraint_region[row_idx, 1]  # sec\n",
        "            f_start = constraint_region[row_idx, 2]  # Hz\n",
        "            f_end = constraint_region[row_idx, 3]  # Hz\n",
        "\n",
        "            # convert start/end values to indices\n",
        "            t_start_idx = np.argmin(np.abs(T_coef - t_start))\n",
        "            t_end_idx = np.argmin(np.abs(T_coef - t_end))\n",
        "            f_start_idx = np.argmin(np.abs(F_coef_hertz - f_start))\n",
        "            f_end_idx = np.argmin(np.abs(F_coef_hertz - f_end))\n",
        "\n",
        "            # track in salience part\n",
        "            cur_Z = Z[f_start_idx:f_end_idx+1, t_start_idx:t_end_idx+1]\n",
        "            T = define_transition_matrix(cur_Z.shape[0], tol=tol,\n",
        "                                         score_low=score_low, score_high=score_high)\n",
        "            cur_eta = compute_trajectory_dp(cur_Z, T)\n",
        "\n",
        "            # fill contour\n",
        "            eta[t_start_idx:t_end_idx+1] = f_start_idx + cur_eta\n",
        "    else:\n",
        "        T = define_transition_matrix(Z.shape[0], tol=tol, score_low=score_low, score_high=score_high)\n",
        "        eta = compute_trajectory_dp(Z, T)\n",
        "\n",
        "    return eta\n",
        "\n",
        "\n",
        "def compute_traj_from_audio(x, Fs=22050, N=1024, H=128, R=10.0, F_min=55.0, F_max=1760.0,\n",
        "                            num_harm=10, freq_smooth_len=11, alpha=0.9, gamma=0.0,\n",
        "                            constraint_region=None, tol=5, score_low=0.01, score_high=1.0):\n",
        "    \"\"\"Compute F0 contour from audio signal\n",
        "\n",
        "    Notebook: C8/C8S2_FundFreqTracking.ipynb\n",
        "\n",
        "    Args:\n",
        "        x (np.ndarray): Audio signal\n",
        "        Fs (scalar): Sampling frequency (Default value = 22050)\n",
        "        N (int): Window length in samples (Default value = 1024)\n",
        "        H (int): Hopsize in samples (Default value = 128)\n",
        "        R (float): Frequency resolution in cents (Default value = 10.0)\n",
        "        F_min (float): Lower frequency bound (reference frequency) (Default value = 55.0)\n",
        "        F_max (float): Upper frequency bound (Default value = 1760.0)\n",
        "        num_harm (int): Number of harmonics (Default value = 10)\n",
        "        freq_smooth_len (int): Filter length for vertical smoothing (Default value = 11)\n",
        "        alpha (float): Weighting parameter for harmonics (Default value = 0.9)\n",
        "        gamma (float): Logarithmic compression factor (Default value = 0.0)\n",
        "        constraint_region (np.ndarray): Constraint regions, row-format: (t_start_sec, t_end_sec, f_start_hz, f_end,hz)\n",
        "            (Default value = None)\n",
        "        tol (int): Tolerance parameter for transition matrix (Default value = 5)\n",
        "        score_low (float): Score (low) for transition matrix (Default value = 0.01)\n",
        "        score_high (float): Score (high) for transition matrix (Default value = 1.0)\n",
        "\n",
        "    Returns:\n",
        "        traj (np.ndarray): F0 contour, time in seconds in 1st column, frequency in Hz in 2nd column\n",
        "        Z (np.ndarray): Salience representation\n",
        "        T_coef (np.ndarray): Time axis\n",
        "        F_coef_hertz (np.ndarray): Frequency axis in Hz\n",
        "        F_coef_cents (np.ndarray): Frequency axis in cents\n",
        "    \"\"\"\n",
        "    Z, F_coef_hertz, F_coef_cents = libfmp.c8.compute_salience_rep(\n",
        "        x, Fs, N=N, H=H, R=R, F_min=F_min, F_max=F_max, num_harm=num_harm, freq_smooth_len=freq_smooth_len,\n",
        "        alpha=alpha, gamma=gamma)\n",
        "\n",
        "    T_coef = (np.arange(Z.shape[1]) * H) / Fs\n",
        "    index_CR = compute_trajectory_cr(Z, T_coef, F_coef_hertz, constraint_region,\n",
        "                                     tol=tol, score_low=score_low, score_high=score_high)\n",
        "\n",
        "    traj = np.hstack((T_coef.reshape(-1, 1), F_coef_hertz[index_CR].reshape(-1, 1)))\n",
        "    traj[index_CR == -1, 1] = 0\n",
        "    return traj, Z, T_coef, F_coef_hertz, F_coef_cents\n",
        "\n",
        "\n",
        "def visualize_salience_traj_constraints(Z, T_coef, F_coef_cents, F_ref=55.0, colorbar=True, cmap='gray_r',\n",
        "                                        figsize=(7, 4), traj=None, constraint_region=None, ax=None):\n",
        "    \"\"\"Visualize salience representation with optional F0-trajectory and constraint regions\n",
        "\n",
        "    Notebook: C8/C8S2_FundFreqTracking.ipynb\n",
        "\n",
        "    Args:\n",
        "        Z: Salience representation\n",
        "        T_coef: Time axis\n",
        "        F_coef_cents: Frequency axis in cents\n",
        "        F_ref: Reference frequency (Default value = 55.0)\n",
        "        colorbar: Show or hide colorbar (Default value = True)\n",
        "        cmap: Color map (Default value = 'gray_r')\n",
        "        figsize: Figure size (Default value = (7, 4))\n",
        "        traj: F0 trajectory (time in seconds, frequency in Hz) (Default value = None)\n",
        "        constraint_region: Constraint regions, row-format: (t_start_sec, t_end_sec, f_start_hz, f_end,hz)\n",
        "            (Default value = None)\n",
        "        ax: Handle to existing axis (Default value = None)\n",
        "\n",
        "    Returns:\n",
        "        fig: Handle to figure\n",
        "        ax: Handle to cent axis\n",
        "        ax_f: Handle to frequency axis\n",
        "    \"\"\"\n",
        "    fig = None\n",
        "    if ax is None:\n",
        "        fig, ax = plt.subplots(1, 1, figsize=figsize)\n",
        "\n",
        "    sal = ax.imshow(Z, extent=[T_coef[0], T_coef[-1], F_coef_cents[0], F_coef_cents[-1]],\n",
        "                    cmap=cmap, origin='lower', aspect='auto', interpolation='nearest')\n",
        "\n",
        "    y_ticklabels_left = np.arange(F_coef_cents[0], F_coef_cents[-1]+1, 1200)\n",
        "    ax.set_yticks(y_ticklabels_left)\n",
        "    ax.set_yticklabels(y_ticklabels_left)\n",
        "    ax.set_ylabel('Frequency (Cents)')\n",
        "\n",
        "    if colorbar:\n",
        "        plt.colorbar(sal, ax=ax, pad=0.1)\n",
        "\n",
        "    ax_f = ax.twinx()  # instantiate a second axes that shares the same y-axis\n",
        "    ax_f.set_yticks(y_ticklabels_left - F_coef_cents[0])\n",
        "    y_ticklabels_right = cents_to_hz(y_ticklabels_left, F_ref).astype(int)\n",
        "    ax_f.set_yticklabels(y_ticklabels_right)\n",
        "    ax_f.set_ylabel('Frequency (Hz)')\n",
        "\n",
        "    # plot contour\n",
        "    if traj is not None:\n",
        "        traj_plot = traj[traj[:, 1] > 0, :]\n",
        "        traj_plot[:, 1] = hz_to_cents(traj_plot[:, 1], F_ref)\n",
        "        ax.plot(traj_plot[:, 0], traj_plot[:, 1], color='r', markersize=4, marker='.', linestyle='')\n",
        "\n",
        "    # plot constraint regions\n",
        "    if constraint_region is not None:\n",
        "        for row in constraint_region:\n",
        "            t_start = row[0]  # sec\n",
        "            t_end = row[1]  # sec\n",
        "            f_start = row[2]  # Hz\n",
        "            f_end = row[3]  # Hz\n",
        "            ax.add_patch(matplotlib.patches.Rectangle((\n",
        "                t_start, hz_to_cents(f_start, F_ref)), width=t_end-t_start,\n",
        "                height=hz_to_cents(f_end, F_ref)-hz_to_cents(f_start, F_ref),\n",
        "                fill=False, edgecolor='k', linewidth=3, zorder=2))\n",
        "\n",
        "    ax.set_xlabel('Time (seconds)')\n",
        "\n",
        "    if fig is not None:\n",
        "        plt.tight_layout()\n",
        "\n",
        "    return fig, ax, ax_f"
      ],
      "metadata": {
        "cellView": "form",
        "id": "WVpdz6tKQmVj",
        "outputId": "22b20e47-badd-4f0c-8010-baff54cc0af0",
        "colab": {
          "base_uri": "https://localhost:8080/"
        }
      },
      "execution_count": 4,
      "outputs": [
        {
          "output_type": "stream",
          "name": "stdout",
          "text": [
            "Writing score_informed_pitch_detection.py\n"
          ]
        }
      ]
    },
    {
      "cell_type": "code",
      "source": [
        "#@markdown Alignment code\n",
        "\n",
        "import os.path\n",
        "from libfmp.b import list_to_pitch_activations, plot_chromagram, plot_signal, plot_matrix, \\\n",
        "                     sonify_pitch_activations_with_signal\n",
        "from libfmp.b import plot_chromagram\n",
        "import libfmp.c2\n",
        "from synctoolbox.dtw.mrmsdtw import sync_via_mrmsdtw, sync_via_mrmsdtw_with_anchors\n",
        "from synctoolbox.dtw.utils import compute_optimal_chroma_shift, shift_chroma_vectors, make_path_strictly_monotonic\n",
        "from synctoolbox.feature.csv_tools import read_csv_to_df, df_to_pitch_features, df_to_pitch_onset_features\n",
        "from synctoolbox.feature.chroma import pitch_to_chroma, quantize_chroma, quantized_chroma_to_CENS\n",
        "from synctoolbox.feature.pitch import audio_to_pitch_features\n",
        "from synctoolbox.feature.utils import estimate_tuning\n",
        "import pandas as pd\n",
        "import numpy as np\n",
        "import librosa\n",
        "import librosa.effects\n",
        "import glob\n",
        "import copy\n",
        "from score_informed_pitch_detection import convert_ann_to_constraint_region, visualize_salience_traj_constraints, cents_to_hz, hz_to_cents\n",
        "import matplotlib.pyplot as plt\n",
        "import librosa.display\n",
        "import libf0\n",
        "\n",
        "\n",
        "Fs = 22050\n",
        "H = 128\n",
        "feature_rate = 50\n",
        "step_weights = np.array([1.5, 1.5, 2.0])\n",
        "threshold_rec = 10 ** 6\n",
        "\n",
        "def get_features_from_audio(audio, tuning_offset, visualize=False):  # TODO could make this part of a module\n",
        "    f_pitch = audio_to_pitch_features(f_audio=audio, Fs=Fs, tuning_offset=tuning_offset, feature_rate=feature_rate,\n",
        "                                      verbose=visualize)\n",
        "    f_chroma = pitch_to_chroma(f_pitch=f_pitch)\n",
        "    f_chroma_quantized = quantize_chroma(f_chroma=f_chroma)\n",
        "    return f_chroma_quantized\n",
        "\n",
        "\n",
        "def get_features_from_annotation(df_annotation):\n",
        "    f_pitch = df_to_pitch_features(df_annotation, feature_rate=feature_rate)\n",
        "    f_chroma = pitch_to_chroma(f_pitch=f_pitch)\n",
        "    f_chroma_quantized = quantize_chroma(f_chroma=f_chroma)\n",
        "    return f_chroma_quantized\n",
        "\n",
        "def get_corresponding_audio_frame(ann_audio_wp, ann_index, end=False):\n",
        "    pair = ann_audio_wp[:, ann_audio_wp[0]==ann_index]\n",
        "    if end:\n",
        "        return pair[1,-1]\n",
        "    else:\n",
        "        return pair[1,0]\n",
        "\n",
        "def align_csv(midi_csv_path, audio_path, offset=0, duration=None, debug=False):\n",
        "    # load annotation & get features (as it gets the chroma features of the annotation, I don't feel necessary to convert the MIDI notes to Hz)\n",
        "    df_ann = pd.read_csv(midi_csv_path, sep=';')  # MIDI info\n",
        "    df_ann['start'] += 0.1\n",
        "    df_ann['end'] = df_ann['start'] + df_ann['duration']\n",
        "    f_ch_ann = get_features_from_annotation(df_ann)\n",
        "\n",
        "    audio_recording, _ = librosa.load(audio_path, Fs, offset=offset, duration=duration)\n",
        "    _, start_end_indices = librosa.effects.trim(audio_recording)\n",
        "    audio_start = max(start_end_indices[0]/Fs, 10*feature_rate/Fs)   # start and end from librosa effects trim\n",
        "    audio_end = min(start_end_indices[1]/Fs, len(audio_recording)/Fs) # we can also use f0 csv file\n",
        "    f_ch_recording = get_features_from_audio(audio_recording, estimate_tuning(audio_recording, Fs))\n",
        "    print('feature extraction successful')\n",
        "    wp = sync_via_mrmsdtw_with_anchors(f_chroma1=f_ch_ann,\n",
        "                                       f_chroma2=f_ch_recording,\n",
        "                                       input_feature_rate=feature_rate,\n",
        "                                       step_weights=step_weights,\n",
        "                                       threshold_rec=threshold_rec,\n",
        "                                       verbose=False,\n",
        "                                       anchor_pairs=[(0.1, audio_start), (df_ann['end'].max(), audio_end)])\n",
        "    print('alignment successful')\n",
        "    # wp_mono = make_path_strictly_monotonic(wp) this is not improving anything\n",
        "    df_aligned = copy.deepcopy(df_ann)\n",
        "    for index, annotation in df_ann.iterrows():\n",
        "        try:\n",
        "            start = get_corresponding_audio_frame(wp, int(feature_rate*annotation.start))\n",
        "            end = get_corresponding_audio_frame(wp, int(feature_rate*annotation.end), end=True)\n",
        "            df_aligned.loc[index, 'start'] = start/feature_rate\n",
        "            df_aligned.loc[index, 'end'] = end/feature_rate\n",
        "            df_aligned.loc[index, 'duration'] = (end-start)/feature_rate\n",
        "        except IndexError:\n",
        "            print('error in', index, audio_path)\n",
        "\n",
        "\n",
        "    if debug:\n",
        "        # Visualization\n",
        "        figsize = (20, 4)\n",
        "        cmap = libfmp.b.compressed_gray_cmap(alpha=5)\n",
        "\n",
        "\n",
        "        ann_score = df_aligned[['start', 'end', 'pitch']].values\n",
        "        constraint_region = convert_ann_to_constraint_region(ann_score, tol_freq_cents=100)\n",
        "\n",
        "        # Plot the f0s together with the constraint region\n",
        "        # shared parameters\n",
        "        N = 2048 # window size in samples\n",
        "        H = 256 # hop size in samples\n",
        "        zero_pad = 2048 # zero-padding for STFT (only for visualization)\n",
        "        F_min = 55.0 # minimum frequency of interest in Hz\n",
        "        F_max = 1760.0 # maximum frequency of interest in Hz\n",
        "        R = 10 # resolution of F0-estimations in cents\n",
        "        # set parameters\n",
        "        threshold = 0.5 # confidence threshold between 0 and 1\n",
        "        x, _ = librosa.load(audio_name, sr=Fs)\n",
        "\n",
        "        # run the SWIPE algorithm\n",
        "        f0_swipe, t_swipe, conf_swipe = libf0.swipe(x, Fs, H, F_min, F_max, strength_threshold=threshold)\n",
        "        f0_content = pd.DataFrame({'time': t_swipe, 'frequency':f0_swipe})\n",
        "        T_coef = f0_content.time.values\n",
        "        F_min, F_max = constraint_region[:, 2:].min(), constraint_region[:, 2:].max()\n",
        "\n",
        "        F_coef_cents = np.arange(hz_to_cents(F_min)-10, hz_to_cents(F_max)+10, 10)\n",
        "        Z = np.zeros((len(F_coef_cents), len(T_coef)))  # gimmick! we can use the stft instead. this is empty!!\n",
        "\n",
        "        traj = f0_content.values\n",
        "\n",
        "        # Visualization\n",
        "        visualize_salience_traj_constraints(Z, T_coef, F_coef_cents, F_ref=cents_to_hz(F_coef_cents[0]), figsize=figsize, cmap=cmap,\n",
        "                                            constraint_region=constraint_region, colorbar=False, traj=traj, ax=None)\n",
        "        plt.title(audio_path)\n",
        "        plt.show()\n",
        "\n",
        "    return df_aligned\n"
      ],
      "metadata": {
        "cellView": "form",
        "id": "LBHO1vHWRDqC"
      },
      "execution_count": 25,
      "outputs": []
    },
    {
      "cell_type": "code",
      "source": [
        "\n",
        "\n",
        "no = 'No01'\n",
        "\n",
        "midi_path = os.path.join('violin-etudes', 'midi', \"PaganiniOp1\", \n",
        "                          no+'.csv')\n",
        "\n",
        "\n",
        "recordings = {'YiWu': \"YAC6rvP61ms\",\n",
        "              'Perlman': 'CuIvx3SNyvY'}\n",
        "\n",
        "for name, key in recordings.items():\n",
        "\n",
        "    audio_name = no+name\n",
        "    !yt-dlp https://www.youtube.com/watch?v={key} -x --audio-format wav --audio-quality 0   -o \"{audio_name}.%(ext)s\"  &> /dev/null\n",
        "    audio_name = audio_name + '.wav'\n",
        "    print(audio_name, 'downloaded')\n",
        "    align_csv(midi_path, audio_name, debug=True, offset=0, duration=None)\n"
      ],
      "metadata": {
        "id": "HXHeWWa4Wu_f",
        "outputId": "106e962c-9944-44ee-b61d-18e03de5186c",
        "colab": {
          "base_uri": "https://localhost:8080/",
          "height": 703
        }
      },
      "execution_count": 26,
      "outputs": [
        {
          "output_type": "stream",
          "name": "stdout",
          "text": [
            "No01YiWu.wav downloaded\n",
            "........................................................................................feature extraction successful\n",
            "alignment successful\n"
          ]
        },
        {
          "output_type": "display_data",
          "data": {
            "text/plain": [
              "<Figure size 1440x288 with 2 Axes>"
            ],
            "image/png": "[encoded data removed]"
          },
          "metadata": {
            "image/png": {
              "width": 1432,
              "height": 291
            },
            "needs_background": "light"
          }
        },
        {
          "output_type": "stream",
          "name": "stdout",
          "text": [
            "No01Perlman.wav downloaded\n",
            "........................................................................................feature extraction successful\n",
            "alignment successful\n"
          ]
        },
        {
          "output_type": "display_data",
          "data": {
            "text/plain": [
              "<Figure size 1440x288 with 2 Axes>"
            ],
            "image/png": "[encoded data removed]"
          },
          "metadata": {
            "image/png": {
              "width": 1432,
              "height": 291
            },
            "needs_background": "light"
          }
        }
      ]
    },
    {
      "cell_type": "markdown",
      "source": [
        "# TODO: Now let's align using the new TAPE model (for this we need to use GPU instance)"
      ],
      "metadata": {
        "id": "uFOnzQUHOJcq"
      }
    },
    {
      "cell_type": "code",
      "source": [
        "!rm -rf tape # remove if the directory already exists\n",
        "!git clone https://github.com/MTG/tape.git  &> /dev/null\n",
        "!rm -rf tape/violin/violin_model.pt # the model file is too big for git clone"
      ],
      "metadata": {
        "id": "yd7-P6kgOUuX"
      },
      "execution_count": null,
      "outputs": []
    },
    {
      "cell_type": "code",
      "source": [
        "!rm -rf tape # remove if the directory already exists\n",
        "!git clone https://github.com/MTG/tape.git  &> /dev/null\n",
        "!rm -rf tape/violin/violin_model.pt # the model file is too big for git clone\n",
        "!pip install mir_eval  &> /dev/null\n",
        "import gc\n",
        "import torch\n",
        "from tape.pitch_estimator import TAPE\n",
        "from tape.utils import visualize, silence_unvoiced_segments\n",
        "\n",
        "\n",
        "row = selected_recordings.iloc[0]\n",
        "\n",
        "\n",
        "window_size=32*1024 \n",
        "instrument='violin'\n",
        "hop_length=128\n",
        "confidence_th=0.8\n",
        "viterbi=True\n",
        "batch_size=128\n",
        "\n",
        "gc.collect()\n",
        "device = 'cuda' if torch.cuda.is_available() else 'cpu'\n",
        "model = TAPE(instrument=instrument, \n",
        "              window_size=window_size,\n",
        "              hop_length=hop_length).to(device)\n",
        "m, o = row.Method.split('Op')\n",
        "midi_path = os.path.join('violin-etudes', 'midi', row.Method, \n",
        "                          m+'_Opus-'+o+'-'+str(int(row.No[2:]))+'.csv')\n",
        "f0_path = os.path.join('violin-etudes', 'f0', row.f0Path)\n",
        "player, key = row.PlayerID, row.YouTubeKey\n",
        "start, end = row.Start, row.End\n",
        "audio_name = player+key+str(start)+str(end)\n",
        "!yt-dlp https://www.youtube.com/watch?v={key} -x --audio-format wav --audio-quality 0   -o \"{audio_name}.%(ext)s\"  &> /dev/null\n",
        "print(audio_name, 'downloaded')\n",
        "audio, sr = librosa.load(audio_name+'.wav', sr=model.sr, offset=start, duration=end-start)\n",
        "with torch.no_grad():\n",
        "  time, frequency_our, confidence_our, activation_our = model.predict(torch.tensor(audio), viterbi=viterbi, batch_size=batch_size)\n"
      ],
      "metadata": {
        "id": "j6clJ1DTOXe0",
        "outputId": "9aec61e5-6800-45d1-c954-1c549ff40c6e",
        "colab": {
          "base_uri": "https://localhost:8080/"
        }
      },
      "execution_count": null,
      "outputs": [
        {
          "output_type": "stream",
          "name": "stderr",
          "text": [
            "Downloading...\n",
            "From: https://drive.google.com/uc?export=download&confirm=pbef&id=19lDroATDKPurK3hTdL6TgntApbiKoWMC\n",
            "To: /content/tape/violin_model.pt\n",
            "100%|██████████| 235M/235M [00:00<00:00, 241MB/s]\n"
          ]
        },
        {
          "output_type": "stream",
          "name": "stdout",
          "text": [
            "01YkqQqLPkhcg3109 downloaded\n"
          ]
        }
      ]
    },
    {
      "cell_type": "code",
      "source": [
        "from score_informed_pitch_detection import convert_ann_to_constraint_region, visualize_salience_traj_constraints, cents_to_hz, hz_to_cents\n",
        "import pretty_midi\n",
        "from mir_eval.melody import hz2cents"
      ],
      "metadata": {
        "id": "cIcRJuwok2i-"
      },
      "execution_count": null,
      "outputs": []
    },
    {
      "cell_type": "code",
      "source": [
        "df_ann = pd.read_csv(midi_path, sep=';')  # MIDI info\n",
        "df_ann['start'] += 0.1\n",
        "df_ann['end'] = df_ann['start'] + df_ann['duration']\n"
      ],
      "metadata": {
        "id": "RP3YFZVqgkuI"
      },
      "execution_count": null,
      "outputs": []
    },
    {
      "cell_type": "code",
      "source": [
        "unique_notes = df_ann['pitch'].unique()\n",
        "F_min = pretty_midi.note_number_to_hz(unique_notes.min())\n",
        "bin_F_min = np.where(model.labeling.hz2label(F_min)>0)[0][0]\n",
        "F_max = pretty_midi.note_number_to_hz(unique_notes.max()+1)\n",
        "bin_F_max = np.where(model.labeling.hz2label(F_max)>0)[0][-1]\n",
        "F_coef_cents = model.labeling.centers_c[bin_F_min:bin_F_max]\n",
        "Z = activation_our[:, bin_F_min:bin_F_max] "
      ],
      "metadata": {
        "id": "jgT7RzUKldba"
      },
      "execution_count": null,
      "outputs": []
    },
    {
      "cell_type": "code",
      "source": [
        "F_max"
      ],
      "metadata": {
        "id": "NwSAeT6Pp95K",
        "outputId": "cebee567-779c-4d2e-9fac-f330bc7d3a69",
        "colab": {
          "base_uri": "https://localhost:8080/"
        }
      },
      "execution_count": null,
      "outputs": [
        {
          "output_type": "execute_result",
          "data": {
            "text/plain": [
              "987.7666025122483"
            ]
          },
          "metadata": {},
          "execution_count": 78
        }
      ]
    },
    {
      "cell_type": "code",
      "source": [],
      "metadata": {
        "id": "nnckPlh5lGgE"
      },
      "execution_count": null,
      "outputs": []
    },
    {
      "cell_type": "code",
      "source": [
        "note_bound_max"
      ],
      "metadata": {
        "id": "3gsMN0Gop0w_",
        "outputId": "e3e9cb89-debc-44dd-d8c6-4cc069cbed21",
        "colab": {
          "base_uri": "https://localhost:8080/"
        }
      },
      "execution_count": null,
      "outputs": [
        {
          "output_type": "execute_result",
          "data": {
            "text/plain": [
              "53"
            ]
          },
          "metadata": {},
          "execution_count": 86
        }
      ]
    },
    {
      "cell_type": "code",
      "source": [
        "\n",
        "hz2cents(np.array([pretty_midi.note_number_to_hz(note)]))[0]"
      ],
      "metadata": {
        "id": "9Xnzso7jq6-g",
        "outputId": "08d57a56-b689-467a-bf47-d7456f6aee73",
        "colab": {
          "base_uri": "https://localhost:8080/"
        }
      },
      "execution_count": null,
      "outputs": [
        {
          "output_type": "execute_result",
          "data": {
            "text/plain": [
              "array([7451.31794236])"
            ]
          },
          "metadata": {},
          "execution_count": 80
        }
      ]
    },
    {
      "cell_type": "code",
      "source": [
        "note_bound_min"
      ],
      "metadata": {
        "id": "qfak7d0vpRoK",
        "outputId": "e4b4f7e0-71a3-474e-c937-6edc871ced7d",
        "colab": {
          "base_uri": "https://localhost:8080/"
        }
      },
      "execution_count": null,
      "outputs": [
        {
          "output_type": "execute_result",
          "data": {
            "text/plain": [
              "4450.0"
            ]
          },
          "metadata": {},
          "execution_count": 74
        }
      ]
    },
    {
      "cell_type": "code",
      "source": [],
      "metadata": {
        "id": "rYN-cuzZjKX9",
        "outputId": "611fe793-d931-4ee9-ab12-6e50f355edbe",
        "colab": {
          "base_uri": "https://localhost:8080/"
        }
      },
      "execution_count": null,
      "outputs": [
        {
          "output_type": "execute_result",
          "data": {
            "text/plain": [
              "(array([125, 126, 127, 128, 129, 130, 131, 132]),)"
            ]
          },
          "metadata": {},
          "execution_count": 82
        }
      ]
    },
    {
      "cell_type": "code",
      "source": [
        "midi_roll = Z\n",
        "hop_ms = time[1]\n",
        "\n",
        "for note in df_ann['pitch'].unique():\n",
        "    per_note_df = df_ann[df_ann['pitch'] == note]\n",
        "    for _, event in per_note_df.iterrows():\n",
        "        note_cents = hz2cents(np.array([pretty_midi.note_number_to_hz(note)]))[0]\n",
        "        note_bound_min = note_cents-50  #float: in cents\n",
        "        note_bound_max = note_cents+50\n",
        "        note_span = np.where(np.logical_and(F_coef_cents>note_bound_min,\n",
        "                                            F_coef_cents<note_bound_max))[0]\n",
        "        note_bound_min = note_span[0] - bin_F_min # int: in label bins\n",
        "        note_bound_max = note_span[-1] - bin_F_min\n",
        "        midi_roll[note_bound_min:note_bound_max, \n",
        "                  int(event['start'] / hop_ms): int(event['end'] / hop_ms)] = 1"
      ],
      "metadata": {
        "id": "QxhKEzQthnFG"
      },
      "execution_count": null,
      "outputs": []
    },
    {
      "cell_type": "code",
      "source": [
        "import matplotlib.pyplot as plt\n",
        "plt.imshow(midi_roll)"
      ],
      "metadata": {
        "id": "WU99XF8aiRsf",
        "outputId": "ef8fc294-46ba-4f47-80b0-13ba88ab7da8",
        "colab": {
          "base_uri": "https://localhost:8080/",
          "height": 286
        }
      },
      "execution_count": null,
      "outputs": [
        {
          "output_type": "execute_result",
          "data": {
            "text/plain": [
              "<matplotlib.image.AxesImage at 0x7fac03949730>"
            ]
          },
          "metadata": {},
          "execution_count": 91
        },
        {
          "output_type": "display_data",
          "data": {
            "text/plain": [
              "<Figure size 432x288 with 1 Axes>"
            ],
            "image/png": "[encoded data removed]"
          },
          "metadata": {
            "image/png": {
              "width": 64,
              "height": 252
            },
            "needs_background": "light"
          }
        }
      ]
    },
    {
      "cell_type": "code",
      "source": [
        "df_ann = pd.read_csv(midi_path, sep=';')  # MIDI info\n",
        "df_ann['start'] += 0.1\n",
        "df_ann['end'] = df_ann['start'] + df_ann['duration']\n",
        "f_ch_ann = get_features_from_annotation(df_ann)\n",
        "\n",
        "audio_recording, _ = librosa.load(audio_path, Fs, offset=offset, duration=duration)\n",
        "_, start_end_indices = librosa.effects.trim(audio_recording)\n",
        "audio_start = max(start_end_indices[0]/Fs, 10*feature_rate/Fs)   # start and end from librosa effects trim\n",
        "audio_end = min(start_end_indices[1]/Fs, len(audio_recording)/Fs) # we can also use f0 csv file\n",
        "f_ch_recording = get_features_from_audio(audio_recording, estimate_tuning(audio_recording, Fs))\n",
        "print('feature extraction successful')\n",
        "wp = sync_via_mrmsdtw_with_anchors(f_chroma1=f_ch_ann,\n",
        "                                    f_chroma2=f_ch_recording,\n",
        "                                    input_feature_rate=feature_rate,\n",
        "                                    step_weights=step_weights,\n",
        "                                    threshold_rec=threshold_rec,\n",
        "                                    verbose=False,\n",
        "                                    anchor_pairs=[(0.1, audio_start), (df_ann['end'].max(), audio_end)])\n",
        "print('alignment successful')\n",
        "# wp_mono = make_path_strictly_monotonic(wp) this is not improving anything\n",
        "df_aligned = copy.deepcopy(df_ann)"
      ],
      "metadata": {
        "id": "cl_scAkJOj66",
        "outputId": "7d322a5d-b084-4c87-b379-7a6d993cb557",
        "colab": {
          "base_uri": "https://localhost:8080/"
        }
      },
      "execution_count": null,
      "outputs": [
        {
          "output_type": "execute_result",
          "data": {
            "text/plain": [
              "(13251, 480)"
            ]
          },
          "metadata": {},
          "execution_count": 16
        }
      ]
    },
    {
      "cell_type": "code",
      "source": [],
      "metadata": {
        "id": "oy0w9ruDQ_U0"
      },
      "execution_count": null,
      "outputs": []
    }
  ]
}